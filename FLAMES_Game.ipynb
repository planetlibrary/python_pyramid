{
 "cells": [
  {
   "cell_type": "markdown",
   "id": "2d6b8b4a",
   "metadata": {},
   "source": [
    "### FLAMES game",
    "FLAMES is a popular game among the buddies and teenagers in their early 20's. It hypothetically describes the relationships between two based on their names. Crossing out all the similar letters in common in the names and the total count of the remaining letters  become the key to the game. The key number iterates over the word FLAMES and over repeated iteration it returns a single letter which comes with proper meaning behind. F : FRIENDSHIP L : LOVER A : AFFECTION M : MARRIAGE E : ENEMITY S : SISTER !! IT IS A FUN GAME !!"
   ]
  },
  {
   "cell_type": "code",
   "execution_count": null,
   "id": "35b50349",
   "metadata": {},
   "outputs": [],
   "source": [
    "name1 = input(\"Enter the lad's name: \")\n",
    "name2 = input(\"Enter the lass's name: \")"
   ]
  },
  {
   "cell_type": "code",
   "execution_count": null,
   "id": "afec74e0",
   "metadata": {},
   "outputs": [],
   "source": [
    "def Name_split(name):\n",
    "    name = name.replace(\" \",\"\")\n",
    "    name_dict = {}\n",
    "    for char in name.lower():\n",
    "        if char in name_dict:\n",
    "            name_dict[char] += 1\n",
    "        else:\n",
    "            name_dict[char] = 1\n",
    "    return name_dict"
   ]
  },
  {
   "cell_type": "code",
   "execution_count": null,
   "id": "37ae7825",
   "metadata": {},
   "outputs": [],
   "source": [
    "name_dic1 = Name_split(name1)\n",
    "name_dic2 = Name_split(name2)\n",
    "name={}\n",
    "for i in name_dic1:\n",
    "    if i in name_dic2.keys():\n",
    "        val = abs(name_dic1[i]-name_dic2[i])\n",
    "        if val != 0:\n",
    "            name[i]=val\n",
    "    elif i not in name_dic2.keys():\n",
    "        name[i]=name_dic1[i]\n",
    "for i in name_dic2:\n",
    "    if i not in name_dic1.keys():\n",
    "        name[i]=name_dic2[i]\n",
    "\n",
    "print(name)\n",
    "val_sum = sum(name.values())\n",
    "print(val_sum)"
   ]
  },
  {
   "cell_type": "code",
   "execution_count": null,
   "id": "2fab5344",
   "metadata": {},
   "outputs": [],
   "source": [
    "check_dict = {'f':'FRIENDSHIP','l':'LOVER','a':'AFFECTION','m':'MARRIAGE','e':'ENEMITY','s':'SISTER'}\n",
    "check = 'flames'\n",
    "\n",
    "while len(check) > 1:\n",
    "    ind = (val_sum % len(check)) - 1\n",
    "    if ind== -1:\n",
    "        ind = len(check)-1\n",
    "    check = check[ind+1:]+check[:ind]\n",
    "print(check_dict[check])\n"
   ]
  }
 ],
 "metadata": {
  "kernelspec": {
   "display_name": "Python 3 (ipykernel)",
   "language": "python",
   "name": "python3"
  },
  "language_info": {
   "codemirror_mode": {
    "name": "ipython",
    "version": 3
   },
   "file_extension": ".py",
   "mimetype": "text/x-python",
   "name": "python",
   "nbconvert_exporter": "python",
   "pygments_lexer": "ipython3",
   "version": "3.10.5"
  }
 },
 "nbformat": 4,
 "nbformat_minor": 5
}
